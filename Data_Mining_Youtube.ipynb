{
 "cells": [
  {
   "cell_type": "code",
   "execution_count": 1,
   "metadata": {},
   "outputs": [],
   "source": [
    "import csv"
   ]
  },
  {
   "cell_type": "code",
   "execution_count": 4,
   "metadata": {},
   "outputs": [],
   "source": [
    "import requests"
   ]
  },
  {
   "cell_type": "code",
   "execution_count": 3,
   "metadata": {},
   "outputs": [],
   "source": [
    "import json"
   ]
  },
  {
   "cell_type": "code",
   "execution_count": 5,
   "metadata": {},
   "outputs": [],
   "source": [
    "from bs4 import BeautifulSoup"
   ]
  },
  {
   "cell_type": "code",
   "execution_count": 16,
   "metadata": {},
   "outputs": [],
   "source": [
    "apikey = config.apikey"
   ]
  },
  {
   "cell_type": "code",
   "execution_count": 18,
   "metadata": {},
   "outputs": [],
   "source": [
    "api_url = 'https://www.googleapis.com/youtube/v3/search?part=snippet&channelId=UCJFp8uSYCjXOMnkUyb3CQ3Q&key=' + config.apikey\n"
   ]
  },
  {
   "cell_type": "code",
   "execution_count": null,
   "metadata": {},
   "outputs": [],
   "source": []
  },
  {
   "cell_type": "code",
   "execution_count": 20,
   "metadata": {},
   "outputs": [],
   "source": [
    "api_response = requests.get(api_url)"
   ]
  },
  {
   "cell_type": "code",
   "execution_count": 21,
   "metadata": {},
   "outputs": [],
   "source": [
    "videos = json.loads(api_response.text)"
   ]
  },
  {
   "cell_type": "code",
   "execution_count": null,
   "metadata": {},
   "outputs": [],
   "source": []
  },
  {
   "cell_type": "code",
   "execution_count": null,
   "metadata": {},
   "outputs": [],
   "source": []
  },
  {
   "cell_type": "code",
   "execution_count": 10,
   "metadata": {},
   "outputs": [
    {
     "name": "stdout",
     "output_type": "stream",
     "text": [
      "no more videos!\n"
     ]
    }
   ],
   "source": [
    "with open(\"youtube_vides_5.csv\", \"w\", encoding='utf-8') as csv_file:\n",
    "    csv_writer = csv.writer(csv_file)\n",
    "    csv_writer.writerow([\"publishedAt\", \"title\", \"description\", \"thumbnailurl\"])\n",
    "    has_another_page = True\n",
    "    while has_another_page:\n",
    "        if videos.get(\"items\") is not None:\n",
    "            for video in videos.get(\"items\"):\n",
    "                video_data_row = [\n",
    "                    video['snippet']['publishedAt'],\n",
    "                    video['snippet']['title'],\n",
    "                    video['snippet']['description'],\n",
    "                    video['snippet']['thumbnails']['default']['url']]\n",
    "                csv_writer.writerow(video_data_row)\n",
    "        if \"nextPageToken\" in videos.keys():\n",
    "            next_page_url = api_url + \"&pageToken=\" + videos[\"nextPageToken\"]\n",
    "            next_page_posts = requests.get(next_page_url)\n",
    "            videos = json.loads(next_page_posts.text)\n",
    "        else:\n",
    "            print(\"no more videos!\") \n",
    "            has_another_page = False\n",
    "            "
   ]
  },
  {
   "cell_type": "code",
   "execution_count": null,
   "metadata": {},
   "outputs": [],
   "source": [
    "#page 149\n",
    "\n",
    "import csv\n",
    "import json\n",
    "\n",
    "import requests\n",
    "channel_id = \"UCJFp8uSYCjXOMnkUyb3CQ3Q\"\n",
    "youtube_api_key = config.apikey"
   ]
  },
  {
   "cell_type": "code",
   "execution_count": 11,
   "metadata": {},
   "outputs": [],
   "source": [
    "import config"
   ]
  },
  {
   "cell_type": "code",
   "execution_count": null,
   "metadata": {},
   "outputs": [],
   "source": []
  },
  {
   "cell_type": "code",
   "execution_count": null,
   "metadata": {},
   "outputs": [],
   "source": []
  }
 ],
 "metadata": {
  "kernelspec": {
   "display_name": "Python 3",
   "language": "python",
   "name": "python3"
  },
  "language_info": {
   "codemirror_mode": {
    "name": "ipython",
    "version": 3
   },
   "file_extension": ".py",
   "mimetype": "text/x-python",
   "name": "python",
   "nbconvert_exporter": "python",
   "pygments_lexer": "ipython3",
   "version": "3.7.7"
  }
 },
 "nbformat": 4,
 "nbformat_minor": 4
}
